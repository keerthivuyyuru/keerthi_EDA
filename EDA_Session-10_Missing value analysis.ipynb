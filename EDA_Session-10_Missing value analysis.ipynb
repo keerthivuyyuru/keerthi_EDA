{
 "cells": [
  {
   "cell_type": "code",
   "execution_count": 1,
   "id": "aaeb6f97",
   "metadata": {},
   "outputs": [],
   "source": [
    "# Import the packages\n",
    "import numpy as np\n",
    "import pandas as pd\n",
    "import matplotlib.pyplot as plt\n",
    "import seaborn as sns"
   ]
  },
  {
   "cell_type": "code",
   "execution_count": 2,
   "id": "1a06892e",
   "metadata": {},
   "outputs": [
    {
     "data": {
      "text/html": [
       "<div>\n",
       "<style scoped>\n",
       "    .dataframe tbody tr th:only-of-type {\n",
       "        vertical-align: middle;\n",
       "    }\n",
       "\n",
       "    .dataframe tbody tr th {\n",
       "        vertical-align: top;\n",
       "    }\n",
       "\n",
       "    .dataframe thead th {\n",
       "        text-align: right;\n",
       "    }\n",
       "</style>\n",
       "<table border=\"1\" class=\"dataframe\">\n",
       "  <thead>\n",
       "    <tr style=\"text-align: right;\">\n",
       "      <th></th>\n",
       "      <th>Names</th>\n",
       "      <th>Age</th>\n",
       "      <th>City</th>\n",
       "    </tr>\n",
       "  </thead>\n",
       "  <tbody>\n",
       "    <tr>\n",
       "      <th>0</th>\n",
       "      <td>Ramesh</td>\n",
       "      <td>31.0</td>\n",
       "      <td>NaN</td>\n",
       "    </tr>\n",
       "    <tr>\n",
       "      <th>1</th>\n",
       "      <td>Suresh</td>\n",
       "      <td>32.0</td>\n",
       "      <td>Hyd</td>\n",
       "    </tr>\n",
       "    <tr>\n",
       "      <th>2</th>\n",
       "      <td>NaN</td>\n",
       "      <td>33.0</td>\n",
       "      <td>Mumbai</td>\n",
       "    </tr>\n",
       "    <tr>\n",
       "      <th>3</th>\n",
       "      <td>Mahesh</td>\n",
       "      <td>NaN</td>\n",
       "      <td>Chennai</td>\n",
       "    </tr>\n",
       "  </tbody>\n",
       "</table>\n",
       "</div>"
      ],
      "text/plain": [
       "    Names   Age     City\n",
       "0  Ramesh  31.0      NaN\n",
       "1  Suresh  32.0      Hyd\n",
       "2     NaN  33.0   Mumbai\n",
       "3  Mahesh   NaN  Chennai"
      ]
     },
     "execution_count": 2,
     "metadata": {},
     "output_type": "execute_result"
    }
   ],
   "source": [
    "dict1={'Names':['Ramesh','Suresh',np.nan,'Mahesh'],\n",
    "      'Age':[31,32,33,np.nan],\n",
    "      'City':[np.nan,'Hyd','Mumbai','Chennai']}\n",
    "\n",
    "pd.DataFrame(dict1)"
   ]
  },
  {
   "cell_type": "code",
   "execution_count": 3,
   "id": "ec9dac4f",
   "metadata": {},
   "outputs": [],
   "source": [
    "data1=pd.DataFrame(dict1)"
   ]
  },
  {
   "cell_type": "code",
   "execution_count": 4,
   "id": "8c740b31",
   "metadata": {},
   "outputs": [
    {
     "data": {
      "text/html": [
       "<div>\n",
       "<style scoped>\n",
       "    .dataframe tbody tr th:only-of-type {\n",
       "        vertical-align: middle;\n",
       "    }\n",
       "\n",
       "    .dataframe tbody tr th {\n",
       "        vertical-align: top;\n",
       "    }\n",
       "\n",
       "    .dataframe thead th {\n",
       "        text-align: right;\n",
       "    }\n",
       "</style>\n",
       "<table border=\"1\" class=\"dataframe\">\n",
       "  <thead>\n",
       "    <tr style=\"text-align: right;\">\n",
       "      <th></th>\n",
       "      <th>Names</th>\n",
       "      <th>Age</th>\n",
       "      <th>City</th>\n",
       "    </tr>\n",
       "  </thead>\n",
       "  <tbody>\n",
       "    <tr>\n",
       "      <th>0</th>\n",
       "      <td>False</td>\n",
       "      <td>False</td>\n",
       "      <td>True</td>\n",
       "    </tr>\n",
       "    <tr>\n",
       "      <th>1</th>\n",
       "      <td>False</td>\n",
       "      <td>False</td>\n",
       "      <td>False</td>\n",
       "    </tr>\n",
       "    <tr>\n",
       "      <th>2</th>\n",
       "      <td>True</td>\n",
       "      <td>False</td>\n",
       "      <td>False</td>\n",
       "    </tr>\n",
       "    <tr>\n",
       "      <th>3</th>\n",
       "      <td>False</td>\n",
       "      <td>True</td>\n",
       "      <td>False</td>\n",
       "    </tr>\n",
       "  </tbody>\n",
       "</table>\n",
       "</div>"
      ],
      "text/plain": [
       "   Names    Age   City\n",
       "0  False  False   True\n",
       "1  False  False  False\n",
       "2   True  False  False\n",
       "3  False   True  False"
      ]
     },
     "execution_count": 4,
     "metadata": {},
     "output_type": "execute_result"
    }
   ],
   "source": [
    "data1.isnull()"
   ]
  },
  {
   "cell_type": "code",
   "execution_count": 5,
   "id": "d2ebd59d",
   "metadata": {},
   "outputs": [
    {
     "data": {
      "text/plain": [
       "Names    1\n",
       "Age      1\n",
       "City     1\n",
       "dtype: int64"
      ]
     },
     "execution_count": 5,
     "metadata": {},
     "output_type": "execute_result"
    }
   ],
   "source": [
    "data1.isnull().sum()\n",
    "# every column has one missing value is there"
   ]
  },
  {
   "cell_type": "code",
   "execution_count": 6,
   "id": "76faee4e",
   "metadata": {},
   "outputs": [
    {
     "data": {
      "text/plain": [
       "Names    0.25\n",
       "Age      0.25\n",
       "City     0.25\n",
       "dtype: float64"
      ]
     },
     "execution_count": 6,
     "metadata": {},
     "output_type": "execute_result"
    }
   ],
   "source": [
    "data1.isnull().sum()/len(data1)"
   ]
  },
  {
   "cell_type": "code",
   "execution_count": 7,
   "id": "4fd5a6da",
   "metadata": {},
   "outputs": [
    {
     "data": {
      "text/plain": [
       "Names    25.0\n",
       "Age      25.0\n",
       "City     25.0\n",
       "dtype: float64"
      ]
     },
     "execution_count": 7,
     "metadata": {},
     "output_type": "execute_result"
    }
   ],
   "source": [
    "data1.isnull().sum()*100/len(data1)"
   ]
  },
  {
   "cell_type": "code",
   "execution_count": 8,
   "id": "3b045685",
   "metadata": {},
   "outputs": [
    {
     "data": {
      "text/plain": [
       "Names     object\n",
       "Age      float64\n",
       "City      object\n",
       "dtype: object"
      ]
     },
     "execution_count": 8,
     "metadata": {},
     "output_type": "execute_result"
    }
   ],
   "source": [
    "data1.dtypes"
   ]
  },
  {
   "cell_type": "code",
   "execution_count": 9,
   "id": "0e5523e0",
   "metadata": {},
   "outputs": [],
   "source": [
    "dict2={'Names':['Ramesh','Suresh',None,'Mahesh'],\n",
    "      'Age':[31,32,33,None],\n",
    "      'City':[None,'Hyd','Mumbai','Chennai']}"
   ]
  },
  {
   "cell_type": "code",
   "execution_count": 11,
   "id": "4f344292",
   "metadata": {},
   "outputs": [
    {
     "data": {
      "text/html": [
       "<div>\n",
       "<style scoped>\n",
       "    .dataframe tbody tr th:only-of-type {\n",
       "        vertical-align: middle;\n",
       "    }\n",
       "\n",
       "    .dataframe tbody tr th {\n",
       "        vertical-align: top;\n",
       "    }\n",
       "\n",
       "    .dataframe thead th {\n",
       "        text-align: right;\n",
       "    }\n",
       "</style>\n",
       "<table border=\"1\" class=\"dataframe\">\n",
       "  <thead>\n",
       "    <tr style=\"text-align: right;\">\n",
       "      <th></th>\n",
       "      <th>Names</th>\n",
       "      <th>Age</th>\n",
       "      <th>City</th>\n",
       "    </tr>\n",
       "  </thead>\n",
       "  <tbody>\n",
       "    <tr>\n",
       "      <th>0</th>\n",
       "      <td>Ramesh</td>\n",
       "      <td>31.0</td>\n",
       "      <td>None</td>\n",
       "    </tr>\n",
       "    <tr>\n",
       "      <th>1</th>\n",
       "      <td>Suresh</td>\n",
       "      <td>32.0</td>\n",
       "      <td>Hyd</td>\n",
       "    </tr>\n",
       "    <tr>\n",
       "      <th>2</th>\n",
       "      <td>None</td>\n",
       "      <td>33.0</td>\n",
       "      <td>Mumbai</td>\n",
       "    </tr>\n",
       "    <tr>\n",
       "      <th>3</th>\n",
       "      <td>Mahesh</td>\n",
       "      <td>NaN</td>\n",
       "      <td>Chennai</td>\n",
       "    </tr>\n",
       "  </tbody>\n",
       "</table>\n",
       "</div>"
      ],
      "text/plain": [
       "    Names   Age     City\n",
       "0  Ramesh  31.0     None\n",
       "1  Suresh  32.0      Hyd\n",
       "2    None  33.0   Mumbai\n",
       "3  Mahesh   NaN  Chennai"
      ]
     },
     "execution_count": 11,
     "metadata": {},
     "output_type": "execute_result"
    }
   ],
   "source": [
    "data2=pd.DataFrame(dict2)\n",
    "data2"
   ]
  },
  {
   "cell_type": "code",
   "execution_count": 12,
   "id": "02307517",
   "metadata": {},
   "outputs": [
    {
     "data": {
      "text/html": [
       "<div>\n",
       "<style scoped>\n",
       "    .dataframe tbody tr th:only-of-type {\n",
       "        vertical-align: middle;\n",
       "    }\n",
       "\n",
       "    .dataframe tbody tr th {\n",
       "        vertical-align: top;\n",
       "    }\n",
       "\n",
       "    .dataframe thead th {\n",
       "        text-align: right;\n",
       "    }\n",
       "</style>\n",
       "<table border=\"1\" class=\"dataframe\">\n",
       "  <thead>\n",
       "    <tr style=\"text-align: right;\">\n",
       "      <th></th>\n",
       "      <th>Names</th>\n",
       "      <th>Age</th>\n",
       "      <th>City</th>\n",
       "    </tr>\n",
       "  </thead>\n",
       "  <tbody>\n",
       "    <tr>\n",
       "      <th>0</th>\n",
       "      <td>False</td>\n",
       "      <td>False</td>\n",
       "      <td>True</td>\n",
       "    </tr>\n",
       "    <tr>\n",
       "      <th>1</th>\n",
       "      <td>False</td>\n",
       "      <td>False</td>\n",
       "      <td>False</td>\n",
       "    </tr>\n",
       "    <tr>\n",
       "      <th>2</th>\n",
       "      <td>True</td>\n",
       "      <td>False</td>\n",
       "      <td>False</td>\n",
       "    </tr>\n",
       "    <tr>\n",
       "      <th>3</th>\n",
       "      <td>False</td>\n",
       "      <td>True</td>\n",
       "      <td>False</td>\n",
       "    </tr>\n",
       "  </tbody>\n",
       "</table>\n",
       "</div>"
      ],
      "text/plain": [
       "   Names    Age   City\n",
       "0  False  False   True\n",
       "1  False  False  False\n",
       "2   True  False  False\n",
       "3  False   True  False"
      ]
     },
     "execution_count": 12,
     "metadata": {},
     "output_type": "execute_result"
    }
   ],
   "source": [
    "data2.isnull()"
   ]
  },
  {
   "cell_type": "code",
   "execution_count": 13,
   "id": "3dca0ec8",
   "metadata": {},
   "outputs": [
    {
     "data": {
      "text/plain": [
       "Names    1\n",
       "Age      1\n",
       "City     1\n",
       "dtype: int64"
      ]
     },
     "execution_count": 13,
     "metadata": {},
     "output_type": "execute_result"
    }
   ],
   "source": [
    "data2.isnull().sum()"
   ]
  },
  {
   "cell_type": "code",
   "execution_count": 14,
   "id": "e865e9e8",
   "metadata": {},
   "outputs": [],
   "source": [
    "dict3={'Names':['Ramesh','Suresh','Null','Mahesh'],\n",
    "      'Age':[31,32,33,'Null'],\n",
    "      'City':['Null','Hyd','Mumbai','Chennai']}"
   ]
  },
  {
   "cell_type": "code",
   "execution_count": 15,
   "id": "893986a8",
   "metadata": {},
   "outputs": [
    {
     "data": {
      "text/html": [
       "<div>\n",
       "<style scoped>\n",
       "    .dataframe tbody tr th:only-of-type {\n",
       "        vertical-align: middle;\n",
       "    }\n",
       "\n",
       "    .dataframe tbody tr th {\n",
       "        vertical-align: top;\n",
       "    }\n",
       "\n",
       "    .dataframe thead th {\n",
       "        text-align: right;\n",
       "    }\n",
       "</style>\n",
       "<table border=\"1\" class=\"dataframe\">\n",
       "  <thead>\n",
       "    <tr style=\"text-align: right;\">\n",
       "      <th></th>\n",
       "      <th>Names</th>\n",
       "      <th>Age</th>\n",
       "      <th>City</th>\n",
       "    </tr>\n",
       "  </thead>\n",
       "  <tbody>\n",
       "    <tr>\n",
       "      <th>0</th>\n",
       "      <td>Ramesh</td>\n",
       "      <td>31</td>\n",
       "      <td>Null</td>\n",
       "    </tr>\n",
       "    <tr>\n",
       "      <th>1</th>\n",
       "      <td>Suresh</td>\n",
       "      <td>32</td>\n",
       "      <td>Hyd</td>\n",
       "    </tr>\n",
       "    <tr>\n",
       "      <th>2</th>\n",
       "      <td>Null</td>\n",
       "      <td>33</td>\n",
       "      <td>Mumbai</td>\n",
       "    </tr>\n",
       "    <tr>\n",
       "      <th>3</th>\n",
       "      <td>Mahesh</td>\n",
       "      <td>Null</td>\n",
       "      <td>Chennai</td>\n",
       "    </tr>\n",
       "  </tbody>\n",
       "</table>\n",
       "</div>"
      ],
      "text/plain": [
       "    Names   Age     City\n",
       "0  Ramesh    31     Null\n",
       "1  Suresh    32      Hyd\n",
       "2    Null    33   Mumbai\n",
       "3  Mahesh  Null  Chennai"
      ]
     },
     "execution_count": 15,
     "metadata": {},
     "output_type": "execute_result"
    }
   ],
   "source": [
    "data3=pd.DataFrame(dict3)\n",
    "data3"
   ]
  },
  {
   "cell_type": "code",
   "execution_count": null,
   "id": "9a6500c9",
   "metadata": {},
   "outputs": [],
   "source": [
    "data2.isnull()"
   ]
  },
  {
   "cell_type": "code",
   "execution_count": null,
   "id": "ef68d445",
   "metadata": {},
   "outputs": [],
   "source": [
    "data3.isnull().sum()"
   ]
  },
  {
   "cell_type": "markdown",
   "id": "37b151e9",
   "metadata": {},
   "source": [
    "**Method-1**\n",
    ">Fill the missing values with random number\n",
    "\n",
    "dataframe name = data1\n",
    "\n",
    "method name:fillna\n"
   ]
  },
  {
   "cell_type": "code",
   "execution_count": 16,
   "id": "4944e438",
   "metadata": {},
   "outputs": [
    {
     "data": {
      "text/html": [
       "<div>\n",
       "<style scoped>\n",
       "    .dataframe tbody tr th:only-of-type {\n",
       "        vertical-align: middle;\n",
       "    }\n",
       "\n",
       "    .dataframe tbody tr th {\n",
       "        vertical-align: top;\n",
       "    }\n",
       "\n",
       "    .dataframe thead th {\n",
       "        text-align: right;\n",
       "    }\n",
       "</style>\n",
       "<table border=\"1\" class=\"dataframe\">\n",
       "  <thead>\n",
       "    <tr style=\"text-align: right;\">\n",
       "      <th></th>\n",
       "      <th>Names</th>\n",
       "      <th>Age</th>\n",
       "      <th>City</th>\n",
       "    </tr>\n",
       "  </thead>\n",
       "  <tbody>\n",
       "    <tr>\n",
       "      <th>0</th>\n",
       "      <td>Ramesh</td>\n",
       "      <td>31.0</td>\n",
       "      <td>40</td>\n",
       "    </tr>\n",
       "    <tr>\n",
       "      <th>1</th>\n",
       "      <td>Suresh</td>\n",
       "      <td>32.0</td>\n",
       "      <td>Hyd</td>\n",
       "    </tr>\n",
       "    <tr>\n",
       "      <th>2</th>\n",
       "      <td>40</td>\n",
       "      <td>33.0</td>\n",
       "      <td>Mumbai</td>\n",
       "    </tr>\n",
       "    <tr>\n",
       "      <th>3</th>\n",
       "      <td>Mahesh</td>\n",
       "      <td>40.0</td>\n",
       "      <td>Chennai</td>\n",
       "    </tr>\n",
       "  </tbody>\n",
       "</table>\n",
       "</div>"
      ],
      "text/plain": [
       "    Names   Age     City\n",
       "0  Ramesh  31.0       40\n",
       "1  Suresh  32.0      Hyd\n",
       "2      40  33.0   Mumbai\n",
       "3  Mahesh  40.0  Chennai"
      ]
     },
     "execution_count": 16,
     "metadata": {},
     "output_type": "execute_result"
    }
   ],
   "source": [
    "data1.fillna(40)"
   ]
  },
  {
   "cell_type": "markdown",
   "id": "bf864d96",
   "metadata": {},
   "source": [
    "**Method-2**\n",
    "\n",
    ">Fill the missing values with random number on specific column\n",
    "\n",
    "dataframe name= data1\n",
    "\n",
    "method name:fillna"
   ]
  },
  {
   "cell_type": "code",
   "execution_count": 17,
   "id": "3573211e",
   "metadata": {},
   "outputs": [
    {
     "data": {
      "text/plain": [
       "0     Ramesh\n",
       "1     Suresh\n",
       "2    Sathish\n",
       "3     Mahesh\n",
       "Name: Names, dtype: object"
      ]
     },
     "execution_count": 17,
     "metadata": {},
     "output_type": "execute_result"
    }
   ],
   "source": [
    "data1['Names'].fillna('Sathish')"
   ]
  },
  {
   "cell_type": "code",
   "execution_count": null,
   "id": "4befd4d3",
   "metadata": {},
   "outputs": [],
   "source": [
    "data1['Names'].fillna('Sathish',inplace=True)\n",
    "data1"
   ]
  },
  {
   "cell_type": "code",
   "execution_count": null,
   "id": "b0528327",
   "metadata": {},
   "outputs": [],
   "source": [
    "# Create the data again\n",
    "dict1={'Names':['Ramesh','Suresh',np.nan,'Mahesh'],\n",
    "      'Age':[31,32,33,np.nan],\n",
    "      'City':[np.nan,'Hyd','Mumbai','Chennai']}\n",
    "\n",
    "data1=pd.DataFrame(dict1)\n",
    "data1"
   ]
  },
  {
   "cell_type": "markdown",
   "id": "45189e81",
   "metadata": {},
   "source": [
    "**Method-3**\n",
    "\n",
    "- bfill\n",
    "- ffill\n",
    "- pad\n",
    "- backfill"
   ]
  },
  {
   "cell_type": "code",
   "execution_count": 18,
   "id": "be2d8c88",
   "metadata": {},
   "outputs": [
    {
     "data": {
      "text/html": [
       "<div>\n",
       "<style scoped>\n",
       "    .dataframe tbody tr th:only-of-type {\n",
       "        vertical-align: middle;\n",
       "    }\n",
       "\n",
       "    .dataframe tbody tr th {\n",
       "        vertical-align: top;\n",
       "    }\n",
       "\n",
       "    .dataframe thead th {\n",
       "        text-align: right;\n",
       "    }\n",
       "</style>\n",
       "<table border=\"1\" class=\"dataframe\">\n",
       "  <thead>\n",
       "    <tr style=\"text-align: right;\">\n",
       "      <th></th>\n",
       "      <th>Names</th>\n",
       "      <th>Age</th>\n",
       "      <th>City</th>\n",
       "    </tr>\n",
       "  </thead>\n",
       "  <tbody>\n",
       "    <tr>\n",
       "      <th>0</th>\n",
       "      <td>Ramesh</td>\n",
       "      <td>31.0</td>\n",
       "      <td>Hyd</td>\n",
       "    </tr>\n",
       "    <tr>\n",
       "      <th>1</th>\n",
       "      <td>Suresh</td>\n",
       "      <td>32.0</td>\n",
       "      <td>Hyd</td>\n",
       "    </tr>\n",
       "    <tr>\n",
       "      <th>2</th>\n",
       "      <td>Mahesh</td>\n",
       "      <td>33.0</td>\n",
       "      <td>Mumbai</td>\n",
       "    </tr>\n",
       "    <tr>\n",
       "      <th>3</th>\n",
       "      <td>Mahesh</td>\n",
       "      <td>NaN</td>\n",
       "      <td>Chennai</td>\n",
       "    </tr>\n",
       "  </tbody>\n",
       "</table>\n",
       "</div>"
      ],
      "text/plain": [
       "    Names   Age     City\n",
       "0  Ramesh  31.0      Hyd\n",
       "1  Suresh  32.0      Hyd\n",
       "2  Mahesh  33.0   Mumbai\n",
       "3  Mahesh   NaN  Chennai"
      ]
     },
     "execution_count": 18,
     "metadata": {},
     "output_type": "execute_result"
    }
   ],
   "source": [
    "data1.fillna(method='backfill')\n",
    "# Names index 2 is missing value\n",
    "#          it will replace by index 3 value\n",
    "# Age index 3 is missing value\n",
    "#           we dont have index 4, so the value is NaN\n",
    "# City index 0 has missed value\n",
    "#           it replace with index 1 value"
   ]
  },
  {
   "cell_type": "code",
   "execution_count": 19,
   "id": "5f668817",
   "metadata": {},
   "outputs": [
    {
     "data": {
      "text/html": [
       "<div>\n",
       "<style scoped>\n",
       "    .dataframe tbody tr th:only-of-type {\n",
       "        vertical-align: middle;\n",
       "    }\n",
       "\n",
       "    .dataframe tbody tr th {\n",
       "        vertical-align: top;\n",
       "    }\n",
       "\n",
       "    .dataframe thead th {\n",
       "        text-align: right;\n",
       "    }\n",
       "</style>\n",
       "<table border=\"1\" class=\"dataframe\">\n",
       "  <thead>\n",
       "    <tr style=\"text-align: right;\">\n",
       "      <th></th>\n",
       "      <th>Names</th>\n",
       "      <th>Age</th>\n",
       "      <th>City</th>\n",
       "    </tr>\n",
       "  </thead>\n",
       "  <tbody>\n",
       "    <tr>\n",
       "      <th>0</th>\n",
       "      <td>Ramesh</td>\n",
       "      <td>31.0</td>\n",
       "      <td>Hyd</td>\n",
       "    </tr>\n",
       "    <tr>\n",
       "      <th>1</th>\n",
       "      <td>Suresh</td>\n",
       "      <td>32.0</td>\n",
       "      <td>Hyd</td>\n",
       "    </tr>\n",
       "    <tr>\n",
       "      <th>2</th>\n",
       "      <td>Mahesh</td>\n",
       "      <td>33.0</td>\n",
       "      <td>Mumbai</td>\n",
       "    </tr>\n",
       "    <tr>\n",
       "      <th>3</th>\n",
       "      <td>Mahesh</td>\n",
       "      <td>NaN</td>\n",
       "      <td>Chennai</td>\n",
       "    </tr>\n",
       "  </tbody>\n",
       "</table>\n",
       "</div>"
      ],
      "text/plain": [
       "    Names   Age     City\n",
       "0  Ramesh  31.0      Hyd\n",
       "1  Suresh  32.0      Hyd\n",
       "2  Mahesh  33.0   Mumbai\n",
       "3  Mahesh   NaN  Chennai"
      ]
     },
     "execution_count": 19,
     "metadata": {},
     "output_type": "execute_result"
    }
   ],
   "source": [
    "data1.fillna(method='bfill')"
   ]
  },
  {
   "cell_type": "code",
   "execution_count": 20,
   "id": "2d920a0a",
   "metadata": {},
   "outputs": [
    {
     "data": {
      "text/html": [
       "<div>\n",
       "<style scoped>\n",
       "    .dataframe tbody tr th:only-of-type {\n",
       "        vertical-align: middle;\n",
       "    }\n",
       "\n",
       "    .dataframe tbody tr th {\n",
       "        vertical-align: top;\n",
       "    }\n",
       "\n",
       "    .dataframe thead th {\n",
       "        text-align: right;\n",
       "    }\n",
       "</style>\n",
       "<table border=\"1\" class=\"dataframe\">\n",
       "  <thead>\n",
       "    <tr style=\"text-align: right;\">\n",
       "      <th></th>\n",
       "      <th>Names</th>\n",
       "      <th>Age</th>\n",
       "      <th>City</th>\n",
       "    </tr>\n",
       "  </thead>\n",
       "  <tbody>\n",
       "    <tr>\n",
       "      <th>0</th>\n",
       "      <td>Ramesh</td>\n",
       "      <td>31.0</td>\n",
       "      <td>NaN</td>\n",
       "    </tr>\n",
       "    <tr>\n",
       "      <th>1</th>\n",
       "      <td>Suresh</td>\n",
       "      <td>32.0</td>\n",
       "      <td>Hyd</td>\n",
       "    </tr>\n",
       "    <tr>\n",
       "      <th>2</th>\n",
       "      <td>Suresh</td>\n",
       "      <td>33.0</td>\n",
       "      <td>Mumbai</td>\n",
       "    </tr>\n",
       "    <tr>\n",
       "      <th>3</th>\n",
       "      <td>Mahesh</td>\n",
       "      <td>33.0</td>\n",
       "      <td>Chennai</td>\n",
       "    </tr>\n",
       "  </tbody>\n",
       "</table>\n",
       "</div>"
      ],
      "text/plain": [
       "    Names   Age     City\n",
       "0  Ramesh  31.0      NaN\n",
       "1  Suresh  32.0      Hyd\n",
       "2  Suresh  33.0   Mumbai\n",
       "3  Mahesh  33.0  Chennai"
      ]
     },
     "execution_count": 20,
     "metadata": {},
     "output_type": "execute_result"
    }
   ],
   "source": [
    "data1.fillna(method='ffill')"
   ]
  },
  {
   "cell_type": "code",
   "execution_count": 21,
   "id": "fa7089b9",
   "metadata": {},
   "outputs": [
    {
     "data": {
      "text/html": [
       "<div>\n",
       "<style scoped>\n",
       "    .dataframe tbody tr th:only-of-type {\n",
       "        vertical-align: middle;\n",
       "    }\n",
       "\n",
       "    .dataframe tbody tr th {\n",
       "        vertical-align: top;\n",
       "    }\n",
       "\n",
       "    .dataframe thead th {\n",
       "        text-align: right;\n",
       "    }\n",
       "</style>\n",
       "<table border=\"1\" class=\"dataframe\">\n",
       "  <thead>\n",
       "    <tr style=\"text-align: right;\">\n",
       "      <th></th>\n",
       "      <th>Names</th>\n",
       "      <th>Age</th>\n",
       "      <th>City</th>\n",
       "    </tr>\n",
       "  </thead>\n",
       "  <tbody>\n",
       "    <tr>\n",
       "      <th>0</th>\n",
       "      <td>Ramesh</td>\n",
       "      <td>31.0</td>\n",
       "      <td>NaN</td>\n",
       "    </tr>\n",
       "    <tr>\n",
       "      <th>1</th>\n",
       "      <td>Suresh</td>\n",
       "      <td>32.0</td>\n",
       "      <td>Hyd</td>\n",
       "    </tr>\n",
       "    <tr>\n",
       "      <th>2</th>\n",
       "      <td>Suresh</td>\n",
       "      <td>33.0</td>\n",
       "      <td>Mumbai</td>\n",
       "    </tr>\n",
       "    <tr>\n",
       "      <th>3</th>\n",
       "      <td>Mahesh</td>\n",
       "      <td>33.0</td>\n",
       "      <td>Chennai</td>\n",
       "    </tr>\n",
       "  </tbody>\n",
       "</table>\n",
       "</div>"
      ],
      "text/plain": [
       "    Names   Age     City\n",
       "0  Ramesh  31.0      NaN\n",
       "1  Suresh  32.0      Hyd\n",
       "2  Suresh  33.0   Mumbai\n",
       "3  Mahesh  33.0  Chennai"
      ]
     },
     "execution_count": 21,
     "metadata": {},
     "output_type": "execute_result"
    }
   ],
   "source": [
    "data1.fillna(method='pad')"
   ]
  },
  {
   "cell_type": "markdown",
   "id": "2a52572a",
   "metadata": {},
   "source": [
    "- bfill and backfill both are same\n",
    "- pad and ffill both are same"
   ]
  },
  {
   "cell_type": "markdown",
   "id": "719ba667",
   "metadata": {},
   "source": [
    "**Method-4**\n",
    "\n",
    "- Mean\n",
    "- Median\n",
    "- Mode"
   ]
  },
  {
   "cell_type": "code",
   "execution_count": 22,
   "id": "c46989c6",
   "metadata": {},
   "outputs": [
    {
     "data": {
      "text/html": [
       "<div>\n",
       "<style scoped>\n",
       "    .dataframe tbody tr th:only-of-type {\n",
       "        vertical-align: middle;\n",
       "    }\n",
       "\n",
       "    .dataframe tbody tr th {\n",
       "        vertical-align: top;\n",
       "    }\n",
       "\n",
       "    .dataframe thead th {\n",
       "        text-align: right;\n",
       "    }\n",
       "</style>\n",
       "<table border=\"1\" class=\"dataframe\">\n",
       "  <thead>\n",
       "    <tr style=\"text-align: right;\">\n",
       "      <th></th>\n",
       "      <th>Names</th>\n",
       "      <th>Age</th>\n",
       "      <th>City</th>\n",
       "    </tr>\n",
       "  </thead>\n",
       "  <tbody>\n",
       "    <tr>\n",
       "      <th>0</th>\n",
       "      <td>Ramesh</td>\n",
       "      <td>31.0</td>\n",
       "      <td>NaN</td>\n",
       "    </tr>\n",
       "    <tr>\n",
       "      <th>1</th>\n",
       "      <td>Suresh</td>\n",
       "      <td>32.0</td>\n",
       "      <td>Hyd</td>\n",
       "    </tr>\n",
       "    <tr>\n",
       "      <th>2</th>\n",
       "      <td>NaN</td>\n",
       "      <td>33.0</td>\n",
       "      <td>Mumbai</td>\n",
       "    </tr>\n",
       "    <tr>\n",
       "      <th>3</th>\n",
       "      <td>Mahesh</td>\n",
       "      <td>NaN</td>\n",
       "      <td>Chennai</td>\n",
       "    </tr>\n",
       "  </tbody>\n",
       "</table>\n",
       "</div>"
      ],
      "text/plain": [
       "    Names   Age     City\n",
       "0  Ramesh  31.0      NaN\n",
       "1  Suresh  32.0      Hyd\n",
       "2     NaN  33.0   Mumbai\n",
       "3  Mahesh   NaN  Chennai"
      ]
     },
     "execution_count": 22,
     "metadata": {},
     "output_type": "execute_result"
    }
   ],
   "source": [
    "data1"
   ]
  },
  {
   "cell_type": "code",
   "execution_count": 23,
   "id": "5c48fb81",
   "metadata": {},
   "outputs": [
    {
     "data": {
      "text/plain": [
       "32.0"
      ]
     },
     "execution_count": 23,
     "metadata": {},
     "output_type": "execute_result"
    }
   ],
   "source": [
    "age_mean=data1['Age'].mean()\n",
    "age_mean"
   ]
  },
  {
   "cell_type": "code",
   "execution_count": 25,
   "id": "4a8f2dff",
   "metadata": {},
   "outputs": [
    {
     "data": {
      "text/plain": [
       "0    31.0\n",
       "1    32.0\n",
       "2    33.0\n",
       "3    32.0\n",
       "Name: Age, dtype: float64"
      ]
     },
     "execution_count": 25,
     "metadata": {},
     "output_type": "execute_result"
    }
   ],
   "source": [
    "data1['Age'].fillna(age_mean)"
   ]
  },
  {
   "cell_type": "code",
   "execution_count": null,
   "id": "af935a44",
   "metadata": {},
   "outputs": [],
   "source": [
    "# instead of providing a random number\n",
    "# we are fill with mean of the data"
   ]
  },
  {
   "cell_type": "code",
   "execution_count": 24,
   "id": "6c069742",
   "metadata": {},
   "outputs": [
    {
     "data": {
      "text/plain": [
       "32.0"
      ]
     },
     "execution_count": 24,
     "metadata": {},
     "output_type": "execute_result"
    }
   ],
   "source": [
    "age_median=data1['Age'].median()\n",
    "age_median"
   ]
  },
  {
   "cell_type": "code",
   "execution_count": 26,
   "id": "3f1d4f04",
   "metadata": {},
   "outputs": [
    {
     "data": {
      "text/plain": [
       "0    31.0\n",
       "1    32.0\n",
       "2    33.0\n",
       "3    32.0\n",
       "Name: Age, dtype: float64"
      ]
     },
     "execution_count": 26,
     "metadata": {},
     "output_type": "execute_result"
    }
   ],
   "source": [
    "data1['Age'].fillna(age_median)"
   ]
  },
  {
   "cell_type": "code",
   "execution_count": 27,
   "id": "e121dab8",
   "metadata": {},
   "outputs": [],
   "source": [
    "data1['Age'].fillna(age_median,inplace=True)"
   ]
  },
  {
   "cell_type": "code",
   "execution_count": 28,
   "id": "37393698",
   "metadata": {},
   "outputs": [
    {
     "data": {
      "text/html": [
       "<div>\n",
       "<style scoped>\n",
       "    .dataframe tbody tr th:only-of-type {\n",
       "        vertical-align: middle;\n",
       "    }\n",
       "\n",
       "    .dataframe tbody tr th {\n",
       "        vertical-align: top;\n",
       "    }\n",
       "\n",
       "    .dataframe thead th {\n",
       "        text-align: right;\n",
       "    }\n",
       "</style>\n",
       "<table border=\"1\" class=\"dataframe\">\n",
       "  <thead>\n",
       "    <tr style=\"text-align: right;\">\n",
       "      <th></th>\n",
       "      <th>Names</th>\n",
       "      <th>Age</th>\n",
       "      <th>City</th>\n",
       "    </tr>\n",
       "  </thead>\n",
       "  <tbody>\n",
       "    <tr>\n",
       "      <th>0</th>\n",
       "      <td>Ramesh</td>\n",
       "      <td>31.0</td>\n",
       "      <td>NaN</td>\n",
       "    </tr>\n",
       "    <tr>\n",
       "      <th>1</th>\n",
       "      <td>Suresh</td>\n",
       "      <td>32.0</td>\n",
       "      <td>Hyd</td>\n",
       "    </tr>\n",
       "    <tr>\n",
       "      <th>2</th>\n",
       "      <td>NaN</td>\n",
       "      <td>33.0</td>\n",
       "      <td>Mumbai</td>\n",
       "    </tr>\n",
       "    <tr>\n",
       "      <th>3</th>\n",
       "      <td>Mahesh</td>\n",
       "      <td>32.0</td>\n",
       "      <td>Chennai</td>\n",
       "    </tr>\n",
       "  </tbody>\n",
       "</table>\n",
       "</div>"
      ],
      "text/plain": [
       "    Names   Age     City\n",
       "0  Ramesh  31.0      NaN\n",
       "1  Suresh  32.0      Hyd\n",
       "2     NaN  33.0   Mumbai\n",
       "3  Mahesh  32.0  Chennai"
      ]
     },
     "execution_count": 28,
     "metadata": {},
     "output_type": "execute_result"
    }
   ],
   "source": [
    "data1"
   ]
  },
  {
   "cell_type": "code",
   "execution_count": 29,
   "id": "e58fead3",
   "metadata": {},
   "outputs": [
    {
     "data": {
      "text/plain": [
       "0    32.0\n",
       "Name: Age, dtype: float64"
      ]
     },
     "execution_count": 29,
     "metadata": {},
     "output_type": "execute_result"
    }
   ],
   "source": [
    "age_mode=data1['Age'].mode()\n",
    "age_mode"
   ]
  },
  {
   "cell_type": "code",
   "execution_count": 30,
   "id": "ef5f0c3b",
   "metadata": {},
   "outputs": [
    {
     "data": {
      "text/plain": [
       "0    31.0\n",
       "1    32.0\n",
       "2    33.0\n",
       "3    32.0\n",
       "Name: Age, dtype: float64"
      ]
     },
     "execution_count": 30,
     "metadata": {},
     "output_type": "execute_result"
    }
   ],
   "source": [
    "data1['Age'].fillna(age_mode)"
   ]
  },
  {
   "cell_type": "code",
   "execution_count": null,
   "id": "3b12ba8d",
   "metadata": {},
   "outputs": [],
   "source": [
    "# Level1: Mean median mode\n",
    "# Level2: bfill fill\n",
    "# level3:"
   ]
  },
  {
   "cell_type": "markdown",
   "id": "8b51fafa",
   "metadata": {},
   "source": [
    "**Method-5:**\n",
    ">KNN imputer"
   ]
  },
  {
   "cell_type": "markdown",
   "id": "7df3f753",
   "metadata": {},
   "source": [
    "KNN : K nearest neighbours\n",
    "\n",
    "- in the KNN imputer instead of taking mean of the values\n",
    "- will choose neigbours data\n",
    "- will take those mean only"
   ]
  },
  {
   "cell_type": "markdown",
   "id": "7b34bda0",
   "metadata": {},
   "source": [
    "**KNN imputer**\n",
    "\n",
    "<img src=\"https://miro.medium.com/v2/resize:fit:1400/1*9LeaMTcOXxeTPN-VCbKloQ.png\" jsaction=\"VQAsE\" class=\"sFlh5c pT0Scc iPVvYb\" style=\"max-width: 868px; width: 351px; height: 121px; margin: 12.5px 0px;\" alt=\"Optimising pairwise Euclidean distance calculations using ...\" jsname=\"kn3ccd\" aria-hidden=\"false\">\n",
    "\n",
    "\n",
    "<img src=\"https://hlab.stanford.edu/brian/making7.gif\" jsaction=\"VQAsE\" class=\"sFlh5c pT0Scc iPVvYb\" style=\"max-width: 668px; height: 392px; margin: 0px; width: 465px;\" alt=\"Measuring Dis/Similarities\" jsname=\"kn3ccd\" aria-hidden=\"false\">"
   ]
  },
  {
   "cell_type": "code",
   "execution_count": null,
   "id": "1d1be695",
   "metadata": {},
   "outputs": [],
   "source": [
    "n_neighbors is parameter can choose by user\n",
    "\n",
    "if we dont choose by default it will takes as"
   ]
  },
  {
   "cell_type": "code",
   "execution_count": null,
   "id": "9f62a7c0",
   "metadata": {},
   "outputs": [],
   "source": [
    "from sklearn.impute import KNNImputer\n",
    "knn=KNNImputer(n_neighbors=2)\n",
    "knn.fit_transform(data1[['Age']])"
   ]
  },
  {
   "cell_type": "code",
   "execution_count": null,
   "id": "7992a363",
   "metadata": {},
   "outputs": [],
   "source": [
    "data1"
   ]
  },
  {
   "cell_type": "markdown",
   "id": "06b164ee",
   "metadata": {},
   "source": [
    "**Method-6:**\n",
    "    \n",
    "- based on other columns\n",
    "\n",
    "- some times all above methods will not provide good justification\n",
    "\n",
    "- at that time we need to check other columns dependancy also\n",
    "\n",
    "- Most of the time will pick a column which have highest correlation"
   ]
  },
  {
   "cell_type": "code",
   "execution_count": null,
   "id": "5af7beb9",
   "metadata": {},
   "outputs": [],
   "source": []
  }
 ],
 "metadata": {
  "kernelspec": {
   "display_name": "Python 3 (ipykernel)",
   "language": "python",
   "name": "python3"
  },
  "language_info": {
   "codemirror_mode": {
    "name": "ipython",
    "version": 3
   },
   "file_extension": ".py",
   "mimetype": "text/x-python",
   "name": "python",
   "nbconvert_exporter": "python",
   "pygments_lexer": "ipython3",
   "version": "3.11.5"
  }
 },
 "nbformat": 4,
 "nbformat_minor": 5
}
